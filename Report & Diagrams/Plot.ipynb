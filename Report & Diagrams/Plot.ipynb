{
 "cells": [
  {
   "cell_type": "code",
   "execution_count": null,
   "metadata": {
    "collapsed": true
   },
   "outputs": [],
   "source": [
    "import matplotlib.pyplot as plt\n",
    "\n",
    "x = [33, 66, 123, 232, 400, 1484]\n",
    "y_cp1 = [1521.1146, 2461.2165, 4172.5188, 8527.9013, 12417.3577, 50963.4025]\n",
    "y_cp2 = [39.5271, 38.7928, 39.7007, 58.1925, 117.0683, 194.2125]\n",
    "\n",
    "\n",
    "throughput_cp1 = [x[i]/y_cp1[i] for i in range(len(x))]\n",
    "throughput_cp2 = [x[i]/y_cp2[i] for i in range(len(x))]\n",
    "\n",
    "plt.figure(num=None, figsize=(8, 6), dpi=80, facecolor='w', edgecolor='k')\n",
    "plt.title(\"Time Taken Against File Size\", fontsize=20)\n",
    "plt.xlabel(\"File Size (KB)\", fontsize=15)\n",
    "plt.ylabel(\"Time Taken (ms)\", fontsize=15)\n",
    "\n",
    "plt.plot(x,y_cp1, marker = 'o', label = 'CP1')\n",
    "plt.plot(x,y_cp2, marker = 'o', label = 'CP2')\n",
    "\n",
    "\n",
    "plt.legend(loc='upper left')\n",
    "plt.show()"
   ]
  }
 ],
 "metadata": {
  "kernelspec": {
   "display_name": "Python 3",
   "language": "python",
   "name": "python3"
  },
  "language_info": {
   "codemirror_mode": {
    "name": "ipython",
    "version": 3
   },
   "file_extension": ".py",
   "mimetype": "text/x-python",
   "name": "python",
   "nbconvert_exporter": "python",
   "pygments_lexer": "ipython3",
   "version": "3.6.3"
  }
 },
 "nbformat": 4,
 "nbformat_minor": 2
}
